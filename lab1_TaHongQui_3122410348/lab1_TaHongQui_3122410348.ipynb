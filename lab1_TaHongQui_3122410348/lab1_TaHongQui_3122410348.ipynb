{
  "cells": [
    {
      "cell_type": "markdown",
      "id": "0cfa247f-bf3f-4910-90dc-ae8ecb607964",
      "metadata": {
        "id": "0cfa247f-bf3f-4910-90dc-ae8ecb607964"
      },
      "source": [
        "# Buổi 4: Tìm kiếm trong không gian trạng thái"
      ]
    },
    {
      "cell_type": "markdown",
      "id": "48ace7ff-b7d1-4cf2-94da-a21d2d821112",
      "metadata": {
        "id": "48ace7ff-b7d1-4cf2-94da-a21d2d821112"
      },
      "source": [
        "### Bài 1. Biễu diễn đồ thị\n",
        "\n",
        "Cho đồ thị hàm số **G** (**V**, **E**) như bên dưới:\n",
        "\n",
        "![image](dothi.png)"
      ]
    },
    {
      "cell_type": "markdown",
      "id": "51164f9d-5d98-4361-b2c2-1fb23fd3704c",
      "metadata": {
        "id": "51164f9d-5d98-4361-b2c2-1fb23fd3704c"
      },
      "source": [
        "#### 1. Biễu diễn bằng danh sách / ma trận kề"
      ]
    },
    {
      "cell_type": "code",
      "execution_count": 3,
      "id": "8715cbf5-d144-479d-9bb3-eb0be736fa12",
      "metadata": {
        "id": "8715cbf5-d144-479d-9bb3-eb0be736fa12"
      },
      "outputs": [],
      "source": [
        "\"\"\" CÁC BẠN LÀM BÀI Ở ĐÂY \"\"\"\n",
        "ADJ = {'A': ['C', 'E', 'F', 'D'], 'B': [], 'C': ['H'], 'D': ['E', 'H'], 'E': ['K', 'I'], 'F': ['I', 'G'], 'G': [], 'H': ['K'], 'I': ['K', 'B'], 'K': ['B']}\n"
      ]
    },
    {
      "cell_type": "code",
      "execution_count": 4,
      "id": "44f952fc-0188-4215-823b-6efb1ba5622a",
      "metadata": {
        "colab": {
          "base_uri": "https://localhost:8080/",
          "height": 158
        },
        "id": "44f952fc-0188-4215-823b-6efb1ba5622a",
        "outputId": "a4fd3b37-7b30-4d91-f7b4-11bd05ca6da3"
      },
      "outputs": [
        {
          "name": "stdout",
          "output_type": "stream",
          "text": [
            "{'A': ['C', 'E', 'F', 'D'],\n",
            " 'B': [],\n",
            " 'C': ['H'],\n",
            " 'D': ['E', 'H'],\n",
            " 'E': ['K', 'I'],\n",
            " 'F': ['I', 'G'],\n",
            " 'G': [],\n",
            " 'H': ['K'],\n",
            " 'I': ['K', 'B'],\n",
            " 'K': ['B']}\n"
          ]
        }
      ],
      "source": [
        "import pprint\n",
        "pprint.pprint(ADJ)"
      ]
    },
    {
      "cell_type": "markdown",
      "id": "c975f35c-f742-4ac2-be01-1fe53c94eadf",
      "metadata": {
        "id": "c975f35c-f742-4ac2-be01-1fe53c94eadf"
      },
      "source": [
        "#### 2. Thao tác duyệt đồ thị\n",
        "(a) Liệt kê các đỉnh trong đồ thị <br/>\n",
        "(b) Liệt kê tất cả các cạnh đồ thị hiển thị dạng danh sách kề <br/>\n",
        "(c) Cho hai đỉnh A, B. Hỏi hai đỉnh A, B có kề nhau không? <br/>\n",
        "(d) Cho một đỉnh A. Hỏi danh sách các đỉnh kề với A <br/>"
      ]
    },
    {
      "cell_type": "code",
      "execution_count": 5,
      "id": "d286c1a6-ef93-4581-9f7e-96ea10020985",
      "metadata": {
        "id": "d286c1a6-ef93-4581-9f7e-96ea10020985",
        "outputId": "474a228f-e137-4898-9ee6-b2f3e382bc40"
      },
      "outputs": [
        {
          "name": "stdout",
          "output_type": "stream",
          "text": [
            "2. Thao tác duyệt đồ thị\n"
          ]
        }
      ],
      "source": [
        "print(\"2. Thao tác duyệt đồ thị\")"
      ]
    },
    {
      "cell_type": "code",
      "execution_count": 6,
      "id": "5faa6543-247a-4903-ba2a-9c1595af4f41",
      "metadata": {
        "id": "5faa6543-247a-4903-ba2a-9c1595af4f41",
        "outputId": "de3586c8-2db4-4f06-bd91-b81e470c2c91"
      },
      "outputs": [
        {
          "name": "stdout",
          "output_type": "stream",
          "text": [
            "(a) Liệt kê các đỉnh trong đồ thị\n",
            "Các đỉnh của đồ thị:  ['A', 'B', 'C', 'D', 'E', 'F', 'G', 'H', 'I', 'K']\n"
          ]
        }
      ],
      "source": [
        "print(\"(a) Liệt kê các đỉnh trong đồ thị\")\n",
        "print(\"Các đỉnh của đồ thị: \", end = \" \")\n",
        "print(sorted(list(ADJ.keys())))"
      ]
    },
    {
      "cell_type": "code",
      "execution_count": 7,
      "id": "3df2151a-a327-4672-a7af-519084f4b044",
      "metadata": {
        "id": "3df2151a-a327-4672-a7af-519084f4b044",
        "outputId": "20e222ca-ca54-4637-d646-8b5faf57eff6"
      },
      "outputs": [
        {
          "name": "stdout",
          "output_type": "stream",
          "text": [
            "(b) Liệt kê tất cả các cạnh đồ thị hiển thị dạng danh sách kề\n",
            "Danh sách kề của đồ thị: \n",
            "A: C E F D\n",
            "B: \n",
            "C: H\n",
            "D: E H\n",
            "E: K I\n",
            "F: I G\n",
            "G: \n",
            "H: K\n",
            "I: K B\n",
            "K: B\n"
          ]
        }
      ],
      "source": [
        "print(\"(b) Liệt kê tất cả các cạnh đồ thị hiển thị dạng danh sách kề\")\n",
        "print(\"Danh sách kề của đồ thị: \")\n",
        "\n",
        "def HienThiDoThi(G):\n",
        "    for u in sorted(G.keys()):\n",
        "        ke = ' '.join(G[u])\n",
        "        print(f'{u}: {ke}')\n",
        "HienThiDoThi(ADJ)"
      ]
    },
    {
      "cell_type": "code",
      "execution_count": 8,
      "id": "4077c30a-c7be-4a44-93de-9ed446a6a368",
      "metadata": {
        "id": "4077c30a-c7be-4a44-93de-9ed446a6a368",
        "outputId": "e2f99027-8c99-47d6-c5df-457c951ee508"
      },
      "outputs": [
        {
          "name": "stdout",
          "output_type": "stream",
          "text": [
            "(c) Cho hai đỉnh A, B. Hỏi hai đỉnh A, B có kề nhau không?\n"
          ]
        }
      ],
      "source": [
        "print(\"(c) Cho hai đỉnh A, B. Hỏi hai đỉnh A, B có kề nhau không?\")\n",
        "\n",
        "def LaKe(G, a, b):\n",
        "    if a not in G or b not in G:\n",
        "        return -1\n",
        "    return 1 if b in G[a] else 0"
      ]
    },
    {
      "cell_type": "code",
      "execution_count": 9,
      "id": "0e90a761-8354-460a-a451-1cbb97b9b6b8",
      "metadata": {
        "id": "0e90a761-8354-460a-a451-1cbb97b9b6b8",
        "outputId": "2b16d30b-6439-4a98-c9e3-6726b1eb68ae"
      },
      "outputs": [
        {
          "name": "stdout",
          "output_type": "stream",
          "text": [
            "L ke R: -1\n",
            "A ke R: -1\n",
            "E ke D: 0\n",
            "D ke E: 1\n"
          ]
        }
      ],
      "source": [
        "a = \"L\"; b = \"R\"; print(f\"{a} ke {b}: {LaKe(ADJ, a, b)}\")\n",
        "a = \"A\"; b = \"R\"; print(f\"{a} ke {b}: {LaKe(ADJ, a, b)}\")\n",
        "a = \"E\"; b = \"D\"; print(f\"{a} ke {b}: {LaKe(ADJ, a, b)}\")\n",
        "a = \"D\"; b = \"E\"; print(f\"{a} ke {b}: {LaKe(ADJ, a, b)}\")"
      ]
    },
    {
      "cell_type": "code",
      "execution_count": 10,
      "id": "41048b4b-9311-470f-9c0f-2bcb5b062587",
      "metadata": {
        "id": "41048b4b-9311-470f-9c0f-2bcb5b062587",
        "outputId": "34d87130-4a01-42df-cd65-ed379f111856"
      },
      "outputs": [
        {
          "name": "stdout",
          "output_type": "stream",
          "text": [
            "(d) Cho một đỉnh A. Hỏi danh sách các đỉnh kề với A\n",
            "Danh sach ke voi dinh P: None\n",
            "Danh sach ke voi dinh A: ['C', 'E', 'F', 'D']\n",
            "Danh sach ke voi dinh B: []\n",
            "Danh sach ke voi dinh D: ['E', 'H']\n"
          ]
        }
      ],
      "source": [
        "print(\"(d) Cho một đỉnh A. Hỏi danh sách các đỉnh kề với A\")\n",
        "\n",
        "def LayKe(G, a):\n",
        "    if a not in G:\n",
        "        return None\n",
        "    return list(G[a])\n",
        "\n",
        "a = \"P\"; print(f\"Danh sach ke voi dinh {a}: {LayKe(ADJ, a)}\")\n",
        "a = \"A\"; print(f\"Danh sach ke voi dinh {a}: {LayKe(ADJ, a)}\")\n",
        "a = \"B\"; print(f\"Danh sach ke voi dinh {a}: {LayKe(ADJ, a)}\")\n",
        "a = \"D\"; print(f\"Danh sach ke voi dinh {a}: {LayKe(ADJ, a)}\")"
      ]
    },
    {
      "cell_type": "markdown",
      "id": "465a8fdb-f10f-47a9-91ab-1b23598fda4f",
      "metadata": {
        "id": "465a8fdb-f10f-47a9-91ab-1b23598fda4f"
      },
      "source": [
        "#### 3. Đọc và lưu đồ thị\n",
        "**dske.txt**\n",
        "```\n",
        "10           # số đỉnh đồ thị\n",
        "A C E F D    # đỉnh A kề với C E F D\n",
        "B            # đỉnh B không kề với ai\n",
        "C H\n",
        "D E H\n",
        "E K I\n",
        "F I G\n",
        "G\n",
        "H K\n",
        "I K B\n",
        "K B\n",
        "```"
      ]
    },
    {
      "cell_type": "code",
      "execution_count": 11,
      "id": "a71b385f-d571-4d94-88f1-427527c23653",
      "metadata": {
        "id": "a71b385f-d571-4d94-88f1-427527c23653",
        "outputId": "2e78e803-ec7e-4b8c-cc2e-1ff6b1588228"
      },
      "outputs": [
        {
          "name": "stdout",
          "output_type": "stream",
          "text": [
            "1. Lưu đồ thị xuống tập tin\n",
            "Luu do thi thanh cong xuong tap tin: dske1.txt\n",
            "10\n",
            "A C E F D\n",
            "B\n",
            "C H\n",
            "D E H\n",
            "E K I\n",
            "F I G\n",
            "G\n",
            "H K\n",
            "I K B\n",
            "K B\n"
          ]
        }
      ],
      "source": [
        "print(\"1. Lưu đồ thị xuống tập tin\")\n",
        "\n",
        "def LuuDoThi(G, file_path, verbose=True):\n",
        "    import os\n",
        "    file_dir = os.path.dirname(file_path)\n",
        "    if file_dir != '' and (not os.path.exists(file_dir)):\n",
        "        os.makedirs(file_dir)\n",
        "        if verbose:\n",
        "            print(f'+ Tao thu muc: {file_dir}')\n",
        "    with open(file_path, 'wt', encoding='utf-8') as file:\n",
        "        file.write(str(len(G)) + '\\n')\n",
        "        for u in sorted(G.keys()):\n",
        "            line = ' '.join([u] + G[u])\n",
        "            file.write(line + '\\n')\n",
        "        if verbose:\n",
        "            print(f'Luu do thi thanh cong xuong tap tin: {file_path}')\n",
        "LuuDoThi(ADJ, 'dske1.txt', verbose=True)\n",
        "with open('dske1.txt', 'rt', encoding='utf-8') as file:\n",
        "    lines = file.readlines()\n",
        "    for line in lines:\n",
        "        print(line, end='')"
      ]
    },
    {
      "cell_type": "code",
      "execution_count": 12,
      "id": "b30921dc-fb94-44a5-907f-0d66340757a0",
      "metadata": {
        "id": "b30921dc-fb94-44a5-907f-0d66340757a0",
        "outputId": "78712be9-998e-4e27-bad8-574cc91862b9"
      },
      "outputs": [
        {
          "name": "stdout",
          "output_type": "stream",
          "text": [
            "\n",
            "2. Đọc đồ thị từ tập tin\n",
            "{'A': ['C', 'E', 'F', 'D'],\n",
            " 'B': [],\n",
            " 'C': ['H'],\n",
            " 'D': ['E', 'H'],\n",
            " 'E': ['K', 'I'],\n",
            " 'F': ['I', 'G'],\n",
            " 'G': [],\n",
            " 'H': ['K'],\n",
            " 'I': ['K', 'B'],\n",
            " 'K': ['B']}\n"
          ]
        }
      ],
      "source": [
        "print('\\n2. Đọc đồ thị từ tập tin')\n",
        "import pprint\n",
        "\n",
        "def DocDoThi(file_path, verbose=True):\n",
        "    import os\n",
        "    if not os.path.exists(file_path):\n",
        "        return None\n",
        "    G = {}\n",
        "    with open(file_path, 'rt', encoding='utf-8') as file:\n",
        "        n = int(file.readline().strip())\n",
        "        for _ in range(n):\n",
        "            raw = file.readline()\n",
        "            if raw is None or raw == '':\n",
        "                break\n",
        "            tokens = raw.strip().split()\n",
        "            if len(tokens) == 0:\n",
        "                continue\n",
        "            u = tokens[0]\n",
        "            neighbors = tokens[1:] if len(tokens) > 1 else []\n",
        "            G[u] = neighbors\n",
        "    return G\n",
        "G1 = DocDoThi('dske1.txt', verbose=True)\n",
        "pprint.pprint(G1)"
      ]
    },
    {
      "cell_type": "markdown",
      "id": "8197f40f-69af-489d-80b5-124c91427db6",
      "metadata": {
        "id": "8197f40f-69af-489d-80b5-124c91427db6"
      },
      "source": [
        "### Bài 2. Tìm kiếm đường đi trên đồ thị"
      ]
    },
    {
      "cell_type": "markdown",
      "id": "43f12303-9ee9-4404-9ecb-f00a5f78e4ee",
      "metadata": {
        "id": "43f12303-9ee9-4404-9ecb-f00a5f78e4ee"
      },
      "source": [
        "#### 1. Tìm kiếm theo chiều rộng (BFS)"
      ]
    },
    {
      "cell_type": "code",
      "execution_count": 13,
      "id": "1910f300-4094-4d69-b009-a9d4ea0fb27b",
      "metadata": {
        "id": "1910f300-4094-4d69-b009-a9d4ea0fb27b"
      },
      "outputs": [],
      "source": [
        "import pprint\n",
        "\n",
        "def BFS(G, start, goal):\n",
        "    if start not in G or goal not in G:\n",
        "        return None\n",
        "    from collections import deque\n",
        "    q = deque([start])\n",
        "    parent = {start: None}\n",
        "    visited = set([start])\n",
        "    while q:\n",
        "        u = q.popleft()\n",
        "        if u == goal:\n",
        "            break\n",
        "        for v in G[u]:\n",
        "            if v not in visited:\n",
        "                visited.add(v)\n",
        "                parent[v] = u\n",
        "                q.append(v)\n",
        "    return parent"
      ]
    },
    {
      "cell_type": "code",
      "execution_count": 14,
      "id": "ed7e6ed1-ae75-4183-8cb2-0e4eae606144",
      "metadata": {
        "id": "ed7e6ed1-ae75-4183-8cb2-0e4eae606144",
        "outputId": "0c4173f9-c7d3-4507-83b7-760280ba65eb"
      },
      "outputs": [
        {
          "name": "stdout",
          "output_type": "stream",
          "text": [
            "{'A': None,\n",
            " 'B': 'K',\n",
            " 'C': 'A',\n",
            " 'D': 'A',\n",
            " 'E': 'A',\n",
            " 'F': 'A',\n",
            " 'G': 'F',\n",
            " 'H': 'C',\n",
            " 'I': 'E',\n",
            " 'K': 'E'}\n"
          ]
        }
      ],
      "source": [
        "path = BFS(ADJ, \"A\", \"B\")\n",
        "pprint.pprint(path)"
      ]
    },
    {
      "cell_type": "code",
      "execution_count": 15,
      "id": "cd05574f-d2fa-4f71-80b2-1f9c5b45f945",
      "metadata": {
        "id": "cd05574f-d2fa-4f71-80b2-1f9c5b45f945"
      },
      "outputs": [],
      "source": [
        "def find_path(parent, start, goal):\n",
        "    if parent is None:\n",
        "        return []\n",
        "    if start == goal:\n",
        "        return [start]\n",
        "    if goal not in parent:\n",
        "        return []\n",
        "    cur = goal\n",
        "    route = []\n",
        "    while cur is not None:\n",
        "        route.append(cur)\n",
        "        cur = parent.get(cur, None)\n",
        "    route.reverse()\n",
        "    return route if len(route) > 0 and route[0] == start else []\n"
      ]
    },
    {
      "cell_type": "code",
      "execution_count": 16,
      "id": "50a093aa-283b-4623-9428-a0631e37328b",
      "metadata": {
        "id": "50a093aa-283b-4623-9428-a0631e37328b",
        "outputId": "c37f9f2b-2aa7-46bd-ca15-51bbe4c037b4"
      },
      "outputs": [
        {
          "data": {
            "text/plain": [
              "['A', 'E', 'K', 'B']"
            ]
          },
          "execution_count": 16,
          "metadata": {},
          "output_type": "execute_result"
        }
      ],
      "source": [
        "find_path(path, 'A', 'B')"
      ]
    },
    {
      "cell_type": "markdown",
      "id": "16085819-733d-4f95-a32d-aa52c5e35a6e",
      "metadata": {
        "id": "16085819-733d-4f95-a32d-aa52c5e35a6e"
      },
      "source": [
        "#### 2. Tìm kiếm theo chiều rộng (DFS)"
      ]
    },
    {
      "cell_type": "code",
      "execution_count": 17,
      "id": "50ebc7cd-f093-4d06-852c-e6c903e27864",
      "metadata": {
        "id": "50ebc7cd-f093-4d06-852c-e6c903e27864"
      },
      "outputs": [],
      "source": [
        "import pprint\n",
        "\n",
        "def DFS(G, start, goal):\n",
        "    if start not in G or goal not in G:\n",
        "        return None\n",
        "    stack = [start]\n",
        "    parent = {start: None}\n",
        "    visited = set()\n",
        "    while stack:\n",
        "        u = stack.pop()\n",
        "        if u in visited:\n",
        "            continue\n",
        "        visited.add(u)\n",
        "        if u == goal:\n",
        "            break\n",
        "        for v in reversed(G[u]):\n",
        "            if v not in visited and v not in parent:\n",
        "                parent[v] = u\n",
        "                stack.append(v)\n",
        "    return parent"
      ]
    },
    {
      "cell_type": "code",
      "execution_count": 18,
      "id": "8177518a-8ffc-4a29-be9c-90375367793a",
      "metadata": {
        "id": "8177518a-8ffc-4a29-be9c-90375367793a",
        "outputId": "5d7b3267-2f6d-457e-c1f9-2d69d4e7ad75"
      },
      "outputs": [
        {
          "name": "stdout",
          "output_type": "stream",
          "text": [
            "{'A': None,\n",
            " 'B': 'K',\n",
            " 'C': 'A',\n",
            " 'D': 'A',\n",
            " 'E': 'A',\n",
            " 'F': 'A',\n",
            " 'H': 'C',\n",
            " 'K': 'H'}\n"
          ]
        }
      ],
      "source": [
        "path = DFS(ADJ, \"A\", \"B\")\n",
        "pprint.pprint(path)"
      ]
    },
    {
      "cell_type": "markdown",
      "id": "d037e84a-1f8c-4388-89f6-9b1e105140da",
      "metadata": {
        "id": "d037e84a-1f8c-4388-89f6-9b1e105140da"
      },
      "source": [
        "# Kết thúc"
      ]
    }
  ],
  "metadata": {
    "colab": {
      "provenance": []
    },
    "kernelspec": {
      "display_name": "CNTT1",
      "language": "python",
      "name": "python3"
    },
    "language_info": {
      "codemirror_mode": {
        "name": "ipython",
        "version": 3
      },
      "file_extension": ".py",
      "mimetype": "text/x-python",
      "name": "python",
      "nbconvert_exporter": "python",
      "pygments_lexer": "ipython3",
      "version": "3.10.16"
    }
  },
  "nbformat": 4,
  "nbformat_minor": 5
}
